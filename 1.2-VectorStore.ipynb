{
 "cells": [
  {
   "cell_type": "code",
   "execution_count": null,
   "id": "615c9d2b",
   "metadata": {},
   "outputs": [],
   "source": [
    "!pip install langchain_chroma"
   ]
  },
  {
   "cell_type": "code",
   "execution_count": null,
   "id": "84445619",
   "metadata": {},
   "outputs": [],
   "source": [
    "!pip install langchain_huggingface"
   ]
  },
  {
   "cell_type": "code",
   "execution_count": 1,
   "id": "ede30e3d",
   "metadata": {},
   "outputs": [],
   "source": [
    "from langchain_core.documents import Document\n",
    "\n",
    "documents = [\n",
    "    Document(\n",
    "        page_content=\"The quick brown fox jumps over the lazy dog\",\n",
    "        metadata={\"source\": \"a\"},\n",
    "    ),  \n",
    "    Document(\n",
    "        page_content=\"The yellow cat plays with the ball\",\n",
    "        metadata={\"source\": \"b\"},\n",
    "    ),\n",
    "    Document(\n",
    "        page_content=\"The blue bird sings a song\",\n",
    "        metadata={\"source\": \"c\"},\n",
    "    ),\n",
    "    Document(\n",
    "        page_content=\"The green turtle swims in the pond\",\n",
    "        metadata={\"source\": \"d\"},\n",
    "    )\n",
    "]"
   ]
  },
  {
   "cell_type": "code",
   "execution_count": 2,
   "id": "3be911bf",
   "metadata": {},
   "outputs": [],
   "source": [
    "import os\n",
    "from dotenv import load_dotenv\n",
    "from langchain_groq import ChatGroq\n",
    "load_dotenv()\n",
    "\n",
    "groq_api_key = os.getenv(\"GROQ_API_KEY\")\n",
    "\n",
    "os.environ[\"HF_TOKEN\"] = os.getenv(\"HF_TOKEN\")\n",
    "\n",
    "llm = ChatGroq(model=\"meta-llama/llama-4-scout-17b-16e-instruct\", groq_api_key=groq_api_key)"
   ]
  },
  {
   "cell_type": "code",
   "execution_count": 7,
   "id": "ed97d861",
   "metadata": {},
   "outputs": [
    {
     "name": "stderr",
     "output_type": "stream",
     "text": [
      "Xet Storage is enabled for this repo, but the 'hf_xet' package is not installed. Falling back to regular HTTP download. For better performance, install the package with: `pip install huggingface_hub[hf_xet]` or `pip install hf_xet`\n"
     ]
    }
   ],
   "source": [
    "from langchain_huggingface import HuggingFaceEmbeddings\n",
    "\n",
    "embeddings = HuggingFaceEmbeddings(\n",
    "    model_name=\"all-MiniLM-L6-v2\"\n",
    ")"
   ]
  },
  {
   "cell_type": "code",
   "execution_count": 9,
   "id": "33df31e7",
   "metadata": {},
   "outputs": [],
   "source": [
    "from langchain_chroma import Chroma\n",
    "\n",
    "vectorstore = Chroma.from_documents(\n",
    "    documents,\n",
    "    embedding=embeddings\n",
    ")\n",
    "\n"
   ]
  },
  {
   "cell_type": "code",
   "execution_count": 14,
   "id": "c49c3a6e",
   "metadata": {},
   "outputs": [
    {
     "data": {
      "text/plain": [
       "[Document(id='efe39ae7-feff-4b85-8739-0e2e9dc03d33', metadata={'source': 'a'}, page_content='The quick brown fox jumps over the lazy dog'),\n",
       " Document(id='bebc4537-04b4-4a79-bc9d-654fe8e6b61e', metadata={'source': 'c'}, page_content='The blue bird sings a song'),\n",
       " Document(id='44613abc-0bcd-4eda-afbd-a3486d8a18c2', metadata={'source': 'b'}, page_content='The yellow cat plays with the ball'),\n",
       " Document(id='1b142843-78ba-479d-8034-1e6b63161b01', metadata={'source': 'd'}, page_content='The green turtle swims in the pond')]"
      ]
     },
     "execution_count": 14,
     "metadata": {},
     "output_type": "execute_result"
    }
   ],
   "source": [
    "vectorstore.similarity_search(\"hop\")"
   ]
  },
  {
   "cell_type": "code",
   "execution_count": 16,
   "id": "d4e343e1",
   "metadata": {},
   "outputs": [
    {
     "data": {
      "text/plain": [
       "[[Document(id='efe39ae7-feff-4b85-8739-0e2e9dc03d33', metadata={'source': 'a'}, page_content='The quick brown fox jumps over the lazy dog')],\n",
       " [Document(id='bebc4537-04b4-4a79-bc9d-654fe8e6b61e', metadata={'source': 'c'}, page_content='The blue bird sings a song')]]"
      ]
     },
     "execution_count": 16,
     "metadata": {},
     "output_type": "execute_result"
    }
   ],
   "source": [
    "from typing import List\n",
    "\n",
    "from langchain_core.documents import Document\n",
    "from langchain_core.runnables import RunnableLambda\n",
    "\n",
    "retriever = RunnableLambda(\n",
    "    lambda x: vectorstore.similarity_search(x, k=1)\n",
    ")\n",
    "\n",
    "retriever.batch([\"fox\", \"bird\"])"
   ]
  },
  {
   "cell_type": "code",
   "execution_count": 18,
   "id": "fb718bf0",
   "metadata": {},
   "outputs": [
    {
     "data": {
      "text/plain": [
       "[[Document(id='efe39ae7-feff-4b85-8739-0e2e9dc03d33', metadata={'source': 'a'}, page_content='The quick brown fox jumps over the lazy dog')],\n",
       " [Document(id='bebc4537-04b4-4a79-bc9d-654fe8e6b61e', metadata={'source': 'c'}, page_content='The blue bird sings a song')]]"
      ]
     },
     "execution_count": 18,
     "metadata": {},
     "output_type": "execute_result"
    }
   ],
   "source": [
    "retriever = vectorstore.as_retriever(\n",
    "    search_kwargs={\"k\": 1},\n",
    "    search_type=\"similarity\",\n",
    ")\n",
    "\n",
    "retriever.batch([\"fox\", \"bird\"])"
   ]
  },
  {
   "cell_type": "code",
   "execution_count": null,
   "id": "8b9c1ef4",
   "metadata": {},
   "outputs": [
    {
     "name": "stdout",
     "output_type": "stream",
     "text": [
      "The turtle swims in the pond.\n"
     ]
    }
   ],
   "source": [
    "## RAG\n",
    "from langchain_core.prompts import ChatPromptTemplate\n",
    "from langchain_core.runnables import RunnablePassthrough\n",
    "\n",
    "message = \"\"\"\n",
    "Answer this question with the provided context only.\n",
    "\n",
    "{question}\n",
    "\n",
    "Context:\n",
    "\n",
    "{context}\n",
    "\"\"\"\n",
    "\n",
    "prompt = ChatPromptTemplate.from_messages(\n",
    "    [\n",
    "        (\"human\", message),\n",
    "    ]\n",
    ")\n",
    "\n",
    "rag_chain = {\"context\": retriever, \"question\": RunnablePassthrough()}|prompt|llm\n",
    "\n",
    "response = rag_chain.invoke(\"What does the turtle do and where?\")\n",
    "print(response.content)"
   ]
  }
 ],
 "metadata": {
  "kernelspec": {
   "display_name": "fastapi_env",
   "language": "python",
   "name": "python3"
  },
  "language_info": {
   "codemirror_mode": {
    "name": "ipython",
    "version": 3
   },
   "file_extension": ".py",
   "mimetype": "text/x-python",
   "name": "python",
   "nbconvert_exporter": "python",
   "pygments_lexer": "ipython3",
   "version": "3.12.9"
  }
 },
 "nbformat": 4,
 "nbformat_minor": 5
}
